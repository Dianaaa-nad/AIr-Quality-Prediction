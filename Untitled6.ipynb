{
  "cells": [
    {
      "cell_type": "code",
      "execution_count": 51,
      "metadata": {
        "id": "1yIK0r3htNHB"
      },
      "outputs": [],
      "source": [
        "import numpy as np\n",
        "import pandas as pd\n",
        "from sklearn import svm\n",
        "\n",
        "from sklearn.model_selection import train_test_split\n",
        "from sklearn.metrics import accuracy_score\n",
        "import matplotlib.pyplot as plt\n",
        "from sklearn.preprocessing import LabelEncoder\n",
        "import seaborn as sns"
      ]
    },
    {
      "cell_type": "code",
      "execution_count": 52,
      "metadata": {
        "id": "QDciJNp2wV2K"
      },
      "outputs": [],
      "source": [
        "data = pd.read_csv('polusi udara.csv')"
      ]
    },
    {
      "cell_type": "code",
      "execution_count": 53,
      "metadata": {},
      "outputs": [
        {
          "data": {
            "text/html": [
              "<div>\n",
              "<style scoped>\n",
              "    .dataframe tbody tr th:only-of-type {\n",
              "        vertical-align: middle;\n",
              "    }\n",
              "\n",
              "    .dataframe tbody tr th {\n",
              "        vertical-align: top;\n",
              "    }\n",
              "\n",
              "    .dataframe thead th {\n",
              "        text-align: right;\n",
              "    }\n",
              "</style>\n",
              "<table border=\"1\" class=\"dataframe\">\n",
              "  <thead>\n",
              "    <tr style=\"text-align: right;\">\n",
              "      <th></th>\n",
              "      <th>tanggal</th>\n",
              "      <th>pm10</th>\n",
              "      <th>pm25</th>\n",
              "      <th>so2</th>\n",
              "      <th>co</th>\n",
              "      <th>o3</th>\n",
              "      <th>no2</th>\n",
              "      <th>max</th>\n",
              "      <th>critical</th>\n",
              "      <th>categori</th>\n",
              "      <th>location</th>\n",
              "    </tr>\n",
              "  </thead>\n",
              "  <tbody>\n",
              "    <tr>\n",
              "      <th>0</th>\n",
              "      <td>1/1/2021</td>\n",
              "      <td>43</td>\n",
              "      <td>NaN</td>\n",
              "      <td>58</td>\n",
              "      <td>29</td>\n",
              "      <td>35</td>\n",
              "      <td>65</td>\n",
              "      <td>65</td>\n",
              "      <td>O3</td>\n",
              "      <td>SEDANG</td>\n",
              "      <td>DKI2</td>\n",
              "    </tr>\n",
              "    <tr>\n",
              "      <th>1</th>\n",
              "      <td>1/2/2021</td>\n",
              "      <td>58</td>\n",
              "      <td>NaN</td>\n",
              "      <td>86</td>\n",
              "      <td>38</td>\n",
              "      <td>64</td>\n",
              "      <td>80</td>\n",
              "      <td>86</td>\n",
              "      <td>PM25</td>\n",
              "      <td>SEDANG</td>\n",
              "      <td>DKI3</td>\n",
              "    </tr>\n",
              "    <tr>\n",
              "      <th>2</th>\n",
              "      <td>1/3/2021</td>\n",
              "      <td>64</td>\n",
              "      <td>NaN</td>\n",
              "      <td>93</td>\n",
              "      <td>25</td>\n",
              "      <td>62</td>\n",
              "      <td>86</td>\n",
              "      <td>93</td>\n",
              "      <td>PM25</td>\n",
              "      <td>SEDANG</td>\n",
              "      <td>DKI3</td>\n",
              "    </tr>\n",
              "    <tr>\n",
              "      <th>3</th>\n",
              "      <td>1/4/2021</td>\n",
              "      <td>50</td>\n",
              "      <td>NaN</td>\n",
              "      <td>67</td>\n",
              "      <td>24</td>\n",
              "      <td>31</td>\n",
              "      <td>77</td>\n",
              "      <td>77</td>\n",
              "      <td>O3</td>\n",
              "      <td>SEDANG</td>\n",
              "      <td>DKI2</td>\n",
              "    </tr>\n",
              "    <tr>\n",
              "      <th>4</th>\n",
              "      <td>1/5/2021</td>\n",
              "      <td>59</td>\n",
              "      <td>NaN</td>\n",
              "      <td>89</td>\n",
              "      <td>24</td>\n",
              "      <td>35</td>\n",
              "      <td>77</td>\n",
              "      <td>89</td>\n",
              "      <td>PM25</td>\n",
              "      <td>SEDANG</td>\n",
              "      <td>DKI3</td>\n",
              "    </tr>\n",
              "    <tr>\n",
              "      <th>...</th>\n",
              "      <td>...</td>\n",
              "      <td>...</td>\n",
              "      <td>...</td>\n",
              "      <td>...</td>\n",
              "      <td>...</td>\n",
              "      <td>...</td>\n",
              "      <td>...</td>\n",
              "      <td>...</td>\n",
              "      <td>...</td>\n",
              "      <td>...</td>\n",
              "      <td>...</td>\n",
              "    </tr>\n",
              "    <tr>\n",
              "      <th>360</th>\n",
              "      <td>12/27/2021</td>\n",
              "      <td>75</td>\n",
              "      <td>121.0</td>\n",
              "      <td>61</td>\n",
              "      <td>23</td>\n",
              "      <td>40</td>\n",
              "      <td>47</td>\n",
              "      <td>121</td>\n",
              "      <td>PM25</td>\n",
              "      <td>TIDAK SEHAT</td>\n",
              "      <td>DKI4</td>\n",
              "    </tr>\n",
              "    <tr>\n",
              "      <th>361</th>\n",
              "      <td>12/28/2021</td>\n",
              "      <td>59</td>\n",
              "      <td>89.0</td>\n",
              "      <td>53</td>\n",
              "      <td>16</td>\n",
              "      <td>34</td>\n",
              "      <td>33</td>\n",
              "      <td>89</td>\n",
              "      <td>PM25</td>\n",
              "      <td>SEDANG</td>\n",
              "      <td>DKI4</td>\n",
              "    </tr>\n",
              "    <tr>\n",
              "      <th>362</th>\n",
              "      <td>12/29/2021</td>\n",
              "      <td>61</td>\n",
              "      <td>98.0</td>\n",
              "      <td>54</td>\n",
              "      <td>15</td>\n",
              "      <td>37</td>\n",
              "      <td>29</td>\n",
              "      <td>98</td>\n",
              "      <td>PM25</td>\n",
              "      <td>SEDANG</td>\n",
              "      <td>DKI4</td>\n",
              "    </tr>\n",
              "    <tr>\n",
              "      <th>363</th>\n",
              "      <td>12/30/2021</td>\n",
              "      <td>60</td>\n",
              "      <td>102.0</td>\n",
              "      <td>53</td>\n",
              "      <td>17</td>\n",
              "      <td>38</td>\n",
              "      <td>44</td>\n",
              "      <td>102</td>\n",
              "      <td>PM25</td>\n",
              "      <td>TIDAK SEHAT</td>\n",
              "      <td>DKI4</td>\n",
              "    </tr>\n",
              "    <tr>\n",
              "      <th>364</th>\n",
              "      <td>12/31/2021</td>\n",
              "      <td>64</td>\n",
              "      <td>90.0</td>\n",
              "      <td>52</td>\n",
              "      <td>44</td>\n",
              "      <td>37</td>\n",
              "      <td>53</td>\n",
              "      <td>90</td>\n",
              "      <td>PM25</td>\n",
              "      <td>SEDANG</td>\n",
              "      <td>DKI4</td>\n",
              "    </tr>\n",
              "  </tbody>\n",
              "</table>\n",
              "<p>365 rows × 11 columns</p>\n",
              "</div>"
            ],
            "text/plain": [
              "        tanggal  pm10   pm25  so2  co  o3  no2  max critical     categori  \\\n",
              "0      1/1/2021    43    NaN   58  29  35   65   65       O3       SEDANG   \n",
              "1      1/2/2021    58    NaN   86  38  64   80   86     PM25       SEDANG   \n",
              "2      1/3/2021    64    NaN   93  25  62   86   93     PM25       SEDANG   \n",
              "3      1/4/2021    50    NaN   67  24  31   77   77       O3       SEDANG   \n",
              "4      1/5/2021    59    NaN   89  24  35   77   89     PM25       SEDANG   \n",
              "..          ...   ...    ...  ...  ..  ..  ...  ...      ...          ...   \n",
              "360  12/27/2021    75  121.0   61  23  40   47  121     PM25  TIDAK SEHAT   \n",
              "361  12/28/2021    59   89.0   53  16  34   33   89     PM25       SEDANG   \n",
              "362  12/29/2021    61   98.0   54  15  37   29   98     PM25       SEDANG   \n",
              "363  12/30/2021    60  102.0   53  17  38   44  102     PM25  TIDAK SEHAT   \n",
              "364  12/31/2021    64   90.0   52  44  37   53   90     PM25       SEDANG   \n",
              "\n",
              "    location  \n",
              "0       DKI2  \n",
              "1       DKI3  \n",
              "2       DKI3  \n",
              "3       DKI2  \n",
              "4       DKI3  \n",
              "..       ...  \n",
              "360     DKI4  \n",
              "361     DKI4  \n",
              "362     DKI4  \n",
              "363     DKI4  \n",
              "364     DKI4  \n",
              "\n",
              "[365 rows x 11 columns]"
            ]
          },
          "execution_count": 53,
          "metadata": {},
          "output_type": "execute_result"
        }
      ],
      "source": [
        "data"
      ]
    },
    {
      "cell_type": "markdown",
      "metadata": {
        "id": "x_2MqNRpxd_E"
      },
      "source": [
        "### Eksplorasi data"
      ]
    },
    {
      "cell_type": "code",
      "execution_count": 54,
      "metadata": {
        "colab": {
          "base_uri": "https://localhost:8080/"
        },
        "id": "8e7SyBAlwxIh",
        "outputId": "bed08df7-634f-4570-9827-eb33542d1fcf"
      },
      "outputs": [
        {
          "name": "stdout",
          "output_type": "stream",
          "text": [
            "<class 'pandas.core.frame.DataFrame'>\n",
            "RangeIndex: 365 entries, 0 to 364\n",
            "Data columns (total 11 columns):\n",
            " #   Column    Non-Null Count  Dtype  \n",
            "---  ------    --------------  -----  \n",
            " 0   tanggal   365 non-null    object \n",
            " 1   pm10      365 non-null    int64  \n",
            " 2   pm25      334 non-null    float64\n",
            " 3   so2       365 non-null    int64  \n",
            " 4   co        365 non-null    int64  \n",
            " 5   o3        365 non-null    int64  \n",
            " 6   no2       365 non-null    int64  \n",
            " 7   max       365 non-null    int64  \n",
            " 8   critical  365 non-null    object \n",
            " 9   categori  365 non-null    object \n",
            " 10  location  365 non-null    object \n",
            "dtypes: float64(1), int64(6), object(4)\n",
            "memory usage: 31.5+ KB\n"
          ]
        }
      ],
      "source": [
        "data.info()"
      ]
    },
    {
      "cell_type": "code",
      "execution_count": 6,
      "metadata": {
        "colab": {
          "base_uri": "https://localhost:8080/",
          "height": 206
        },
        "id": "w2b91hKHw6NL",
        "outputId": "8baca3e5-008f-4bab-9810-9a94cca6a76c"
      },
      "outputs": [
        {
          "data": {
            "text/html": [
              "<div>\n",
              "<style scoped>\n",
              "    .dataframe tbody tr th:only-of-type {\n",
              "        vertical-align: middle;\n",
              "    }\n",
              "\n",
              "    .dataframe tbody tr th {\n",
              "        vertical-align: top;\n",
              "    }\n",
              "\n",
              "    .dataframe thead th {\n",
              "        text-align: right;\n",
              "    }\n",
              "</style>\n",
              "<table border=\"1\" class=\"dataframe\">\n",
              "  <thead>\n",
              "    <tr style=\"text-align: right;\">\n",
              "      <th></th>\n",
              "      <th>tanggal</th>\n",
              "      <th>pm10</th>\n",
              "      <th>pm25</th>\n",
              "      <th>so2</th>\n",
              "      <th>co</th>\n",
              "      <th>o3</th>\n",
              "      <th>no2</th>\n",
              "      <th>max</th>\n",
              "      <th>critical</th>\n",
              "      <th>categori</th>\n",
              "      <th>location</th>\n",
              "    </tr>\n",
              "  </thead>\n",
              "  <tbody>\n",
              "    <tr>\n",
              "      <th>0</th>\n",
              "      <td>1/1/2021</td>\n",
              "      <td>43</td>\n",
              "      <td>NaN</td>\n",
              "      <td>58</td>\n",
              "      <td>29</td>\n",
              "      <td>35</td>\n",
              "      <td>65</td>\n",
              "      <td>65</td>\n",
              "      <td>O3</td>\n",
              "      <td>SEDANG</td>\n",
              "      <td>DKI2</td>\n",
              "    </tr>\n",
              "    <tr>\n",
              "      <th>1</th>\n",
              "      <td>1/2/2021</td>\n",
              "      <td>58</td>\n",
              "      <td>NaN</td>\n",
              "      <td>86</td>\n",
              "      <td>38</td>\n",
              "      <td>64</td>\n",
              "      <td>80</td>\n",
              "      <td>86</td>\n",
              "      <td>PM25</td>\n",
              "      <td>SEDANG</td>\n",
              "      <td>DKI3</td>\n",
              "    </tr>\n",
              "    <tr>\n",
              "      <th>2</th>\n",
              "      <td>1/3/2021</td>\n",
              "      <td>64</td>\n",
              "      <td>NaN</td>\n",
              "      <td>93</td>\n",
              "      <td>25</td>\n",
              "      <td>62</td>\n",
              "      <td>86</td>\n",
              "      <td>93</td>\n",
              "      <td>PM25</td>\n",
              "      <td>SEDANG</td>\n",
              "      <td>DKI3</td>\n",
              "    </tr>\n",
              "    <tr>\n",
              "      <th>3</th>\n",
              "      <td>1/4/2021</td>\n",
              "      <td>50</td>\n",
              "      <td>NaN</td>\n",
              "      <td>67</td>\n",
              "      <td>24</td>\n",
              "      <td>31</td>\n",
              "      <td>77</td>\n",
              "      <td>77</td>\n",
              "      <td>O3</td>\n",
              "      <td>SEDANG</td>\n",
              "      <td>DKI2</td>\n",
              "    </tr>\n",
              "    <tr>\n",
              "      <th>4</th>\n",
              "      <td>1/5/2021</td>\n",
              "      <td>59</td>\n",
              "      <td>NaN</td>\n",
              "      <td>89</td>\n",
              "      <td>24</td>\n",
              "      <td>35</td>\n",
              "      <td>77</td>\n",
              "      <td>89</td>\n",
              "      <td>PM25</td>\n",
              "      <td>SEDANG</td>\n",
              "      <td>DKI3</td>\n",
              "    </tr>\n",
              "  </tbody>\n",
              "</table>\n",
              "</div>"
            ],
            "text/plain": [
              "    tanggal  pm10  pm25  so2  co  o3  no2  max critical categori location\n",
              "0  1/1/2021    43   NaN   58  29  35   65   65       O3   SEDANG     DKI2\n",
              "1  1/2/2021    58   NaN   86  38  64   80   86     PM25   SEDANG     DKI3\n",
              "2  1/3/2021    64   NaN   93  25  62   86   93     PM25   SEDANG     DKI3\n",
              "3  1/4/2021    50   NaN   67  24  31   77   77       O3   SEDANG     DKI2\n",
              "4  1/5/2021    59   NaN   89  24  35   77   89     PM25   SEDANG     DKI3"
            ]
          },
          "execution_count": 6,
          "metadata": {},
          "output_type": "execute_result"
        }
      ],
      "source": [
        "data.head(5)"
      ]
    },
    {
      "cell_type": "code",
      "execution_count": 7,
      "metadata": {
        "colab": {
          "base_uri": "https://localhost:8080/",
          "height": 206
        },
        "id": "0vmgG3o5w6Eo",
        "outputId": "d545f9a8-bf56-4901-a162-93fe966207ff"
      },
      "outputs": [
        {
          "data": {
            "text/html": [
              "<div>\n",
              "<style scoped>\n",
              "    .dataframe tbody tr th:only-of-type {\n",
              "        vertical-align: middle;\n",
              "    }\n",
              "\n",
              "    .dataframe tbody tr th {\n",
              "        vertical-align: top;\n",
              "    }\n",
              "\n",
              "    .dataframe thead th {\n",
              "        text-align: right;\n",
              "    }\n",
              "</style>\n",
              "<table border=\"1\" class=\"dataframe\">\n",
              "  <thead>\n",
              "    <tr style=\"text-align: right;\">\n",
              "      <th></th>\n",
              "      <th>tanggal</th>\n",
              "      <th>pm10</th>\n",
              "      <th>pm25</th>\n",
              "      <th>so2</th>\n",
              "      <th>co</th>\n",
              "      <th>o3</th>\n",
              "      <th>no2</th>\n",
              "      <th>max</th>\n",
              "      <th>critical</th>\n",
              "      <th>categori</th>\n",
              "      <th>location</th>\n",
              "    </tr>\n",
              "  </thead>\n",
              "  <tbody>\n",
              "    <tr>\n",
              "      <th>360</th>\n",
              "      <td>12/27/2021</td>\n",
              "      <td>75</td>\n",
              "      <td>121.0</td>\n",
              "      <td>61</td>\n",
              "      <td>23</td>\n",
              "      <td>40</td>\n",
              "      <td>47</td>\n",
              "      <td>121</td>\n",
              "      <td>PM25</td>\n",
              "      <td>TIDAK SEHAT</td>\n",
              "      <td>DKI4</td>\n",
              "    </tr>\n",
              "    <tr>\n",
              "      <th>361</th>\n",
              "      <td>12/28/2021</td>\n",
              "      <td>59</td>\n",
              "      <td>89.0</td>\n",
              "      <td>53</td>\n",
              "      <td>16</td>\n",
              "      <td>34</td>\n",
              "      <td>33</td>\n",
              "      <td>89</td>\n",
              "      <td>PM25</td>\n",
              "      <td>SEDANG</td>\n",
              "      <td>DKI4</td>\n",
              "    </tr>\n",
              "    <tr>\n",
              "      <th>362</th>\n",
              "      <td>12/29/2021</td>\n",
              "      <td>61</td>\n",
              "      <td>98.0</td>\n",
              "      <td>54</td>\n",
              "      <td>15</td>\n",
              "      <td>37</td>\n",
              "      <td>29</td>\n",
              "      <td>98</td>\n",
              "      <td>PM25</td>\n",
              "      <td>SEDANG</td>\n",
              "      <td>DKI4</td>\n",
              "    </tr>\n",
              "    <tr>\n",
              "      <th>363</th>\n",
              "      <td>12/30/2021</td>\n",
              "      <td>60</td>\n",
              "      <td>102.0</td>\n",
              "      <td>53</td>\n",
              "      <td>17</td>\n",
              "      <td>38</td>\n",
              "      <td>44</td>\n",
              "      <td>102</td>\n",
              "      <td>PM25</td>\n",
              "      <td>TIDAK SEHAT</td>\n",
              "      <td>DKI4</td>\n",
              "    </tr>\n",
              "    <tr>\n",
              "      <th>364</th>\n",
              "      <td>12/31/2021</td>\n",
              "      <td>64</td>\n",
              "      <td>90.0</td>\n",
              "      <td>52</td>\n",
              "      <td>44</td>\n",
              "      <td>37</td>\n",
              "      <td>53</td>\n",
              "      <td>90</td>\n",
              "      <td>PM25</td>\n",
              "      <td>SEDANG</td>\n",
              "      <td>DKI4</td>\n",
              "    </tr>\n",
              "  </tbody>\n",
              "</table>\n",
              "</div>"
            ],
            "text/plain": [
              "        tanggal  pm10   pm25  so2  co  o3  no2  max critical     categori  \\\n",
              "360  12/27/2021    75  121.0   61  23  40   47  121     PM25  TIDAK SEHAT   \n",
              "361  12/28/2021    59   89.0   53  16  34   33   89     PM25       SEDANG   \n",
              "362  12/29/2021    61   98.0   54  15  37   29   98     PM25       SEDANG   \n",
              "363  12/30/2021    60  102.0   53  17  38   44  102     PM25  TIDAK SEHAT   \n",
              "364  12/31/2021    64   90.0   52  44  37   53   90     PM25       SEDANG   \n",
              "\n",
              "    location  \n",
              "360     DKI4  \n",
              "361     DKI4  \n",
              "362     DKI4  \n",
              "363     DKI4  \n",
              "364     DKI4  "
            ]
          },
          "execution_count": 7,
          "metadata": {},
          "output_type": "execute_result"
        }
      ],
      "source": [
        "data.tail(5)"
      ]
    },
    {
      "cell_type": "code",
      "execution_count": 8,
      "metadata": {
        "colab": {
          "base_uri": "https://localhost:8080/",
          "height": 300
        },
        "id": "AtkI-n5rxIGQ",
        "outputId": "b018bb53-781e-49d9-925d-24a817ed25db"
      },
      "outputs": [
        {
          "data": {
            "text/html": [
              "<div>\n",
              "<style scoped>\n",
              "    .dataframe tbody tr th:only-of-type {\n",
              "        vertical-align: middle;\n",
              "    }\n",
              "\n",
              "    .dataframe tbody tr th {\n",
              "        vertical-align: top;\n",
              "    }\n",
              "\n",
              "    .dataframe thead th {\n",
              "        text-align: right;\n",
              "    }\n",
              "</style>\n",
              "<table border=\"1\" class=\"dataframe\">\n",
              "  <thead>\n",
              "    <tr style=\"text-align: right;\">\n",
              "      <th></th>\n",
              "      <th>pm10</th>\n",
              "      <th>pm25</th>\n",
              "      <th>so2</th>\n",
              "      <th>co</th>\n",
              "      <th>o3</th>\n",
              "      <th>no2</th>\n",
              "      <th>max</th>\n",
              "    </tr>\n",
              "  </thead>\n",
              "  <tbody>\n",
              "    <tr>\n",
              "      <th>count</th>\n",
              "      <td>365.000000</td>\n",
              "      <td>334.000000</td>\n",
              "      <td>365.000000</td>\n",
              "      <td>365.000000</td>\n",
              "      <td>365.000000</td>\n",
              "      <td>365.000000</td>\n",
              "      <td>365.000000</td>\n",
              "    </tr>\n",
              "    <tr>\n",
              "      <th>mean</th>\n",
              "      <td>60.506849</td>\n",
              "      <td>94.694611</td>\n",
              "      <td>52.753425</td>\n",
              "      <td>15.391781</td>\n",
              "      <td>49.805479</td>\n",
              "      <td>34.115068</td>\n",
              "      <td>94.030137</td>\n",
              "    </tr>\n",
              "    <tr>\n",
              "      <th>std</th>\n",
              "      <td>15.155896</td>\n",
              "      <td>24.153839</td>\n",
              "      <td>11.193823</td>\n",
              "      <td>5.857975</td>\n",
              "      <td>12.234790</td>\n",
              "      <td>15.974152</td>\n",
              "      <td>24.408647</td>\n",
              "    </tr>\n",
              "    <tr>\n",
              "      <th>min</th>\n",
              "      <td>19.000000</td>\n",
              "      <td>33.000000</td>\n",
              "      <td>37.000000</td>\n",
              "      <td>7.000000</td>\n",
              "      <td>20.000000</td>\n",
              "      <td>9.000000</td>\n",
              "      <td>45.000000</td>\n",
              "    </tr>\n",
              "    <tr>\n",
              "      <th>25%</th>\n",
              "      <td>53.000000</td>\n",
              "      <td>78.250000</td>\n",
              "      <td>45.000000</td>\n",
              "      <td>11.000000</td>\n",
              "      <td>41.000000</td>\n",
              "      <td>24.000000</td>\n",
              "      <td>77.000000</td>\n",
              "    </tr>\n",
              "    <tr>\n",
              "      <th>50%</th>\n",
              "      <td>62.000000</td>\n",
              "      <td>94.500000</td>\n",
              "      <td>52.000000</td>\n",
              "      <td>14.000000</td>\n",
              "      <td>49.000000</td>\n",
              "      <td>31.000000</td>\n",
              "      <td>93.000000</td>\n",
              "    </tr>\n",
              "    <tr>\n",
              "      <th>75%</th>\n",
              "      <td>68.000000</td>\n",
              "      <td>108.750000</td>\n",
              "      <td>55.000000</td>\n",
              "      <td>18.000000</td>\n",
              "      <td>57.000000</td>\n",
              "      <td>39.000000</td>\n",
              "      <td>108.000000</td>\n",
              "    </tr>\n",
              "    <tr>\n",
              "      <th>max</th>\n",
              "      <td>179.000000</td>\n",
              "      <td>174.000000</td>\n",
              "      <td>126.000000</td>\n",
              "      <td>47.000000</td>\n",
              "      <td>151.000000</td>\n",
              "      <td>134.000000</td>\n",
              "      <td>179.000000</td>\n",
              "    </tr>\n",
              "  </tbody>\n",
              "</table>\n",
              "</div>"
            ],
            "text/plain": [
              "             pm10        pm25         so2          co          o3         no2  \\\n",
              "count  365.000000  334.000000  365.000000  365.000000  365.000000  365.000000   \n",
              "mean    60.506849   94.694611   52.753425   15.391781   49.805479   34.115068   \n",
              "std     15.155896   24.153839   11.193823    5.857975   12.234790   15.974152   \n",
              "min     19.000000   33.000000   37.000000    7.000000   20.000000    9.000000   \n",
              "25%     53.000000   78.250000   45.000000   11.000000   41.000000   24.000000   \n",
              "50%     62.000000   94.500000   52.000000   14.000000   49.000000   31.000000   \n",
              "75%     68.000000  108.750000   55.000000   18.000000   57.000000   39.000000   \n",
              "max    179.000000  174.000000  126.000000   47.000000  151.000000  134.000000   \n",
              "\n",
              "              max  \n",
              "count  365.000000  \n",
              "mean    94.030137  \n",
              "std     24.408647  \n",
              "min     45.000000  \n",
              "25%     77.000000  \n",
              "50%     93.000000  \n",
              "75%    108.000000  \n",
              "max    179.000000  "
            ]
          },
          "execution_count": 8,
          "metadata": {},
          "output_type": "execute_result"
        }
      ],
      "source": [
        "data.describe()"
      ]
    },
    {
      "cell_type": "code",
      "execution_count": 9,
      "metadata": {
        "colab": {
          "base_uri": "https://localhost:8080/",
          "height": 672
        },
        "id": "SDMDs6GOPTSB",
        "outputId": "e75daa45-4515-43f8-97bb-aca7b6dc4eb1"
      },
      "outputs": [
        {
          "name": "stdout",
          "output_type": "stream",
          "text": [
            "categorical_attributes ['tanggal', 'critical', 'categori', 'location']\n",
            "<class 'pandas.core.frame.DataFrame'>\n",
            "RangeIndex: 365 entries, 0 to 364\n",
            "Data columns (total 11 columns):\n",
            " #   Column    Non-Null Count  Dtype  \n",
            "---  ------    --------------  -----  \n",
            " 0   tanggal   365 non-null    object \n",
            " 1   pm10      365 non-null    int32  \n",
            " 2   pm25      334 non-null    float64\n",
            " 3   so2       365 non-null    int64  \n",
            " 4   co        365 non-null    int64  \n",
            " 5   o3        365 non-null    int64  \n",
            " 6   no2       365 non-null    int64  \n",
            " 7   max       365 non-null    int32  \n",
            " 8   critical  365 non-null    object \n",
            " 9   categori  365 non-null    object \n",
            " 10  location  365 non-null    object \n",
            "dtypes: float64(1), int32(2), int64(4), object(4)\n",
            "memory usage: 28.6+ KB\n"
          ]
        },
        {
          "data": {
            "image/png": "[encoded data removed]",
            "text/plain": [
              "<Figure size 640x480 with 2 Axes>"
            ]
          },
          "metadata": {},
          "output_type": "display_data"
        }
      ],
      "source": [
        "categorical_attributes = list(data.select_dtypes(include=['object']).columns)\n",
        "print(\"categorical_attributes\",categorical_attributes)\n",
        "le=LabelEncoder()\n",
        "data['pm10']=le.fit_transform(data['pm10'].astype(str))\n",
        "data['max']=le.fit_transform(data['max'].astype(str))\n",
        "data.info()\n",
        "\n",
        "numeric_columns = data.select_dtypes(include='number')\n",
        "\n",
        "corr_matrix = numeric_columns.corr()\n",
        "sns.heatmap(corr_matrix, annot = True)\n",
        "plt.show()"
      ]
    },
    {
      "cell_type": "code",
      "execution_count": 10,
      "metadata": {},
      "outputs": [
        {
          "name": "stdout",
          "output_type": "stream",
          "text": [
            "categorical_attributes ['tanggal', 'critical', 'categori', 'location']\n",
            "<class 'pandas.core.frame.DataFrame'>\n",
            "RangeIndex: 365 entries, 0 to 364\n",
            "Data columns (total 11 columns):\n",
            " #   Column    Non-Null Count  Dtype  \n",
            "---  ------    --------------  -----  \n",
            " 0   tanggal   365 non-null    object \n",
            " 1   pm10      365 non-null    int32  \n",
            " 2   pm25      365 non-null    float64\n",
            " 3   so2       365 non-null    int64  \n",
            " 4   co        365 non-null    int64  \n",
            " 5   o3        365 non-null    int64  \n",
            " 6   no2       365 non-null    int64  \n",
            " 7   max       365 non-null    int32  \n",
            " 8   critical  365 non-null    object \n",
            " 9   categori  365 non-null    object \n",
            " 10  location  365 non-null    object \n",
            "dtypes: float64(1), int32(2), int64(4), object(4)\n",
            "memory usage: 28.6+ KB\n"
          ]
        },
        {
          "data": {
            "image/png": "[encoded data removed]",
            "text/plain": [
              "<Figure size 640x480 with 2 Axes>"
            ]
          },
          "metadata": {},
          "output_type": "display_data"
        }
      ],
      "source": [
        "df1 = data.copy()\n",
        "df1['pm10']=df1['pm10'].fillna((df1['pm10'].median()))\n",
        "df1['pm25']=df1['pm25'].fillna((df1['pm25'].median()))\n",
        "df1['so2']=df1['so2'].fillna((df1['so2'].median()))\n",
        "df1['co']=df1['co'].fillna((df1['co'].median()))\n",
        "df1['o3']=df1['o3'].fillna((df1['o3'].median()))\n",
        "df1['no2']=df1['no2'].fillna((df1['no2'].median()))\n",
        "df1['max']=df1['max'].fillna((df1['max'].median()))\n",
        "\n",
        "categorical_attributes = list(df1.select_dtypes(include=['object']).columns)\n",
        "print(\"categorical_attributes\",categorical_attributes)\n",
        "le=LabelEncoder()\n",
        "df1['pm10']=le.fit_transform(df1['pm10'].astype(str))\n",
        "df1['max']=le.fit_transform(df1['max'].astype(str))\n",
        "df1.info()\n",
        "\n",
        "numeric_columns = df1.select_dtypes(include='number')\n",
        "\n",
        "cor = numeric_columns.corr()\n",
        "sns.heatmap(corr_matrix, annot = True)\n",
        "plt.show()"
      ]
    },
    {
      "cell_type": "code",
      "execution_count": 55,
      "metadata": {
        "colab": {
          "base_uri": "https://localhost:8080/"
        },
        "id": "AnsWeyH3PUnm",
        "outputId": "1ad560a7-2f72-44c8-b903-929beaaecbd0"
      },
      "outputs": [
        {
          "name": "stdout",
          "output_type": "stream",
          "text": [
            "Classes and number of values in trainset Counter({92: 11, 12: 11, 23: 9, 79: 8, 87: 8, 88: 8, 90: 7, 98: 7, 81: 6, 94: 6, 74: 6, 0: 5, 84: 5, 68: 5, 45: 5, 56: 5, 29: 5, 69: 5, 2: 4, 86: 4, 77: 4, 96: 4, 97: 4, 10: 4, 53: 4, 80: 4, 78: 4, 66: 4, 59: 4, 1: 4, 73: 4, 64: 4, 11: 4, 7: 3, 54: 3, 75: 3, 26: 3, 83: 3, 3: 3, 48: 3, 70: 3, 9: 3, 89: 3, 34: 3, 58: 3, 5: 3, 16: 2, 13: 2, 19: 2, 6: 2, 31: 2, 8: 2, 63: 2, 49: 2, 22: 2, 76: 2, 32: 2, 4: 2, 93: 2, 65: 2, 71: 2, 91: 2, 15: 2, 60: 2, 52: 2, 61: 2, 24: 2, 51: 2, 62: 2, 55: 2, 43: 1, 28: 1, 35: 1, 14: 1, 44: 1, 82: 1, 67: 1, 18: 1, 40: 1, 57: 1, 37: 1, 50: 1, 21: 1, 38: 1, 85: 1, 41: 1, 47: 1, 20: 1, 72: 1, 25: 1, 33: 1, 39: 1, 17: 1})\n"
          ]
        }
      ],
      "source": [
        "from collections import Counter\n",
        "\n",
        "y = df1[\"max\"]\n",
        "x = df1[['pm10','pm25','o3']]\n",
        "X_train, X_test, y_train, y_test = train_test_split(x, y, test_size = 0.2, random_state = 42)\n",
        "\n",
        "\n",
        "print('Classes and number of values in trainset',Counter(y_train))"
      ]
    },
    {
      "cell_type": "code",
      "execution_count": 56,
      "metadata": {
        "colab": {
          "base_uri": "https://localhost:8080/"
        },
        "id": "hP3fpZSyPVLO",
        "outputId": "2a69c5d2-e7ce-4ebf-fc23-e2ddaf471a0d"
      },
      "outputs": [
        {
          "name": "stdout",
          "output_type": "stream",
          "text": [
            "     pm10   pm25  o3\n",
            "0      13   94.5  35\n",
            "1      29   94.5  64\n",
            "2      36   94.5  62\n",
            "3      20   94.5  31\n",
            "4      30   94.5  35\n",
            "..    ...    ...  ..\n",
            "360    48  121.0  40\n",
            "361    30   89.0  34\n",
            "362    32   98.0  37\n",
            "363    31  102.0  38\n",
            "364    36   90.0  37\n",
            "\n",
            "[365 rows x 3 columns]\n"
          ]
        }
      ],
      "source": [
        "X_train.shape\n",
        "X_test.shape\n",
        "print(x)"
      ]
    },
    {
      "cell_type": "code",
      "execution_count": 43,
      "metadata": {
        "colab": {
          "base_uri": "https://localhost:8080/"
        },
        "id": "pIdzOM7QX6aG",
        "outputId": "b5c5e084-934d-426d-bd3d-93c0de0b9892"
      },
      "outputs": [
        {
          "data": {
            "text/html": [
              "<div>\n",
              "<style scoped>\n",
              "    .dataframe tbody tr th:only-of-type {\n",
              "        vertical-align: middle;\n",
              "    }\n",
              "\n",
              "    .dataframe tbody tr th {\n",
              "        vertical-align: top;\n",
              "    }\n",
              "\n",
              "    .dataframe thead th {\n",
              "        text-align: right;\n",
              "    }\n",
              "</style>\n",
              "<table border=\"1\" class=\"dataframe\">\n",
              "  <thead>\n",
              "    <tr style=\"text-align: right;\">\n",
              "      <th></th>\n",
              "      <th>pm10</th>\n",
              "      <th>pm25</th>\n",
              "      <th>o3</th>\n",
              "    </tr>\n",
              "  </thead>\n",
              "  <tbody>\n",
              "    <tr>\n",
              "      <th>211</th>\n",
              "      <td>35</td>\n",
              "      <td>100.0</td>\n",
              "      <td>65</td>\n",
              "    </tr>\n",
              "    <tr>\n",
              "      <th>340</th>\n",
              "      <td>1</td>\n",
              "      <td>58.0</td>\n",
              "      <td>43</td>\n",
              "    </tr>\n",
              "    <tr>\n",
              "      <th>202</th>\n",
              "      <td>31</td>\n",
              "      <td>110.0</td>\n",
              "      <td>54</td>\n",
              "    </tr>\n",
              "    <tr>\n",
              "      <th>75</th>\n",
              "      <td>51</td>\n",
              "      <td>123.0</td>\n",
              "      <td>53</td>\n",
              "    </tr>\n",
              "    <tr>\n",
              "      <th>84</th>\n",
              "      <td>28</td>\n",
              "      <td>83.0</td>\n",
              "      <td>53</td>\n",
              "    </tr>\n",
              "    <tr>\n",
              "      <th>...</th>\n",
              "      <td>...</td>\n",
              "      <td>...</td>\n",
              "      <td>...</td>\n",
              "    </tr>\n",
              "    <tr>\n",
              "      <th>71</th>\n",
              "      <td>24</td>\n",
              "      <td>72.0</td>\n",
              "      <td>41</td>\n",
              "    </tr>\n",
              "    <tr>\n",
              "      <th>106</th>\n",
              "      <td>39</td>\n",
              "      <td>118.0</td>\n",
              "      <td>39</td>\n",
              "    </tr>\n",
              "    <tr>\n",
              "      <th>270</th>\n",
              "      <td>19</td>\n",
              "      <td>71.0</td>\n",
              "      <td>49</td>\n",
              "    </tr>\n",
              "    <tr>\n",
              "      <th>348</th>\n",
              "      <td>41</td>\n",
              "      <td>124.0</td>\n",
              "      <td>50</td>\n",
              "    </tr>\n",
              "    <tr>\n",
              "      <th>102</th>\n",
              "      <td>42</td>\n",
              "      <td>82.0</td>\n",
              "      <td>64</td>\n",
              "    </tr>\n",
              "  </tbody>\n",
              "</table>\n",
              "<p>292 rows × 3 columns</p>\n",
              "</div>"
            ],
            "text/plain": [
              "     pm10   pm25  o3\n",
              "211    35  100.0  65\n",
              "340     1   58.0  43\n",
              "202    31  110.0  54\n",
              "75     51  123.0  53\n",
              "84     28   83.0  53\n",
              "..    ...    ...  ..\n",
              "71     24   72.0  41\n",
              "106    39  118.0  39\n",
              "270    19   71.0  49\n",
              "348    41  124.0  50\n",
              "102    42   82.0  64\n",
              "\n",
              "[292 rows x 3 columns]"
            ]
          },
          "execution_count": 43,
          "metadata": {},
          "output_type": "execute_result"
        }
      ],
      "source": [
        "X_train"
      ]
    },
    {
      "cell_type": "code",
      "execution_count": 57,
      "metadata": {},
      "outputs": [
        {
          "data": {
            "text/html": [
              "<style>#sk-container-id-3 {color: black;}#sk-container-id-3 pre{padding: 0;}#sk-container-id-3 div.sk-toggleable {background-color: white;}#sk-container-id-3 label.sk-toggleable__label {cursor: pointer;display: block;width: 100%;margin-bottom: 0;padding: 0.3em;box-sizing: border-box;text-align: center;}#sk-container-id-3 label.sk-toggleable__label-arrow:before {content: \"▸\";float: left;margin-right: 0.25em;color: #696969;}#sk-container-id-3 label.sk-toggleable__label-arrow:hover:before {color: black;}#sk-container-id-3 div.sk-estimator:hover label.sk-toggleable__label-arrow:before {color: black;}#sk-container-id-3 div.sk-toggleable__content {max-height: 0;max-width: 0;overflow: hidden;text-align: left;background-color: #f0f8ff;}#sk-container-id-3 div.sk-toggleable__content pre {margin: 0.2em;color: black;border-radius: 0.25em;background-color: #f0f8ff;}#sk-container-id-3 input.sk-toggleable__control:checked~div.sk-toggleable__content {max-height: 200px;max-width: 100%;overflow: auto;}#sk-container-id-3 input.sk-toggleable__control:checked~label.sk-toggleable__label-arrow:before {content: \"▾\";}#sk-container-id-3 div.sk-estimator input.sk-toggleable__control:checked~label.sk-toggleable__label {background-color: #d4ebff;}#sk-container-id-3 div.sk-label input.sk-toggleable__control:checked~label.sk-toggleable__label {background-color: #d4ebff;}#sk-container-id-3 input.sk-hidden--visually {border: 0;clip: rect(1px 1px 1px 1px);clip: rect(1px, 1px, 1px, 1px);height: 1px;margin: -1px;overflow: hidden;padding: 0;position: absolute;width: 1px;}#sk-container-id-3 div.sk-estimator {font-family: monospace;background-color: #f0f8ff;border: 1px dotted black;border-radius: 0.25em;box-sizing: border-box;margin-bottom: 0.5em;}#sk-container-id-3 div.sk-estimator:hover {background-color: #d4ebff;}#sk-container-id-3 div.sk-parallel-item::after {content: \"\";width: 100%;border-bottom: 1px solid gray;flex-grow: 1;}#sk-container-id-3 div.sk-label:hover label.sk-toggleable__label {background-color: #d4ebff;}#sk-container-id-3 div.sk-serial::before {content: \"\";position: absolute;border-left: 1px solid gray;box-sizing: border-box;top: 0;bottom: 0;left: 50%;z-index: 0;}#sk-container-id-3 div.sk-serial {display: flex;flex-direction: column;align-items: center;background-color: white;padding-right: 0.2em;padding-left: 0.2em;position: relative;}#sk-container-id-3 div.sk-item {position: relative;z-index: 1;}#sk-container-id-3 div.sk-parallel {display: flex;align-items: stretch;justify-content: center;background-color: white;position: relative;}#sk-container-id-3 div.sk-item::before, #sk-container-id-3 div.sk-parallel-item::before {content: \"\";position: absolute;border-left: 1px solid gray;box-sizing: border-box;top: 0;bottom: 0;left: 50%;z-index: -1;}#sk-container-id-3 div.sk-parallel-item {display: flex;flex-direction: column;z-index: 1;position: relative;background-color: white;}#sk-container-id-3 div.sk-parallel-item:first-child::after {align-self: flex-end;width: 50%;}#sk-container-id-3 div.sk-parallel-item:last-child::after {align-self: flex-start;width: 50%;}#sk-container-id-3 div.sk-parallel-item:only-child::after {width: 0;}#sk-container-id-3 div.sk-dashed-wrapped {border: 1px dashed gray;margin: 0 0.4em 0.5em 0.4em;box-sizing: border-box;padding-bottom: 0.4em;background-color: white;}#sk-container-id-3 div.sk-label label {font-family: monospace;font-weight: bold;display: inline-block;line-height: 1.2em;}#sk-container-id-3 div.sk-label-container {text-align: center;}#sk-container-id-3 div.sk-container {/* jupyter's `normalize.less` sets `[hidden] { display: none; }` but bootstrap.min.css set `[hidden] { display: none !important; }` so we also need the `!important` here to be able to override the default hidden behavior on the sphinx rendered scikit-learn.org. See: https://github.com/scikit-learn/scikit-learn/issues/21755 */display: inline-block !important;position: relative;}#sk-container-id-3 div.sk-text-repr-fallback {display: none;}</style><div id=\"sk-container-id-3\" class=\"sk-top-container\"><div class=\"sk-text-repr-fallback\"><pre>LinearRegression()</pre><b>In a Jupyter environment, please rerun this cell to show the HTML representation or trust the notebook. <br />On GitHub, the HTML representation is unable to render, please try loading this page with nbviewer.org.</b></div><div class=\"sk-container\" hidden><div class=\"sk-item\"><div class=\"sk-estimator sk-toggleable\"><input class=\"sk-toggleable__control sk-hidden--visually\" id=\"sk-estimator-id-3\" type=\"checkbox\" checked><label for=\"sk-estimator-id-3\" class=\"sk-toggleable__label sk-toggleable__label-arrow\">LinearRegression</label><div class=\"sk-toggleable__content\"><pre>LinearRegression()</pre></div></div></div></div></div>"
            ],
            "text/plain": [
              "LinearRegression()"
            ]
          },
          "execution_count": 57,
          "metadata": {},
          "output_type": "execute_result"
        }
      ],
      "source": [
        "from sklearn.linear_model import LinearRegression\n",
        "from sklearn.metrics import mean_squared_error\n",
        "\n",
        "lr = LinearRegression(fit_intercept = True) # Fit intercept is the \"b\" parameter (y = b + mx)\n",
        "lr.fit(X_train, y_train)"
      ]
    },
    {
      "cell_type": "code",
      "execution_count": 58,
      "metadata": {},
      "outputs": [
        {
          "name": "stdout",
          "output_type": "stream",
          "text": [
            "accuracy 87.18846855748954\n"
          ]
        }
      ],
      "source": [
        "from sklearn.metrics import confusion_matrix, classification_report, accuracy_score\n",
        "\n",
        "y_pred = lr.predict(X_test)\n",
        "mse = mean_squared_error(y_test,y_pred)\n",
        "\n",
        "print(\"accuracy\",mse*0.1)"
      ]
    },
    {
      "cell_type": "code",
      "execution_count": 59,
      "metadata": {},
      "outputs": [
        {
          "data": {
            "text/plain": [
              "array([36.70686298, 82.84618626, 51.45960844, 61.93002941, 56.33813404,\n",
              "       23.40736691, 40.76624652, 57.65101369, 57.82250171, 86.80156261,\n",
              "       62.8651512 , 81.5369257 , 56.85182234, 73.90034343, 80.49357224,\n",
              "       68.15109814, 54.59098368, 54.27086793, 63.40437399, 56.46317674,\n",
              "       53.99821731, 40.64089351, 66.86228295, 44.68909424, 41.18127602,\n",
              "        4.45649335, 65.71710184, 56.46696622, 24.21497141, 55.39182943,\n",
              "       53.57794353, 44.98910413, 49.04324339, 57.51161931, 26.64664826,\n",
              "       42.76894138, 65.48019316, 54.35274489, 77.16927428, 94.82175979,\n",
              "       44.51660165, 74.53841062, 53.50512953, 54.32209207, 56.77537402,\n",
              "       43.81329941, 76.48261271, 66.93279273, 57.86303771, 72.557476  ,\n",
              "       24.7177872 , 68.86991178, 55.34468984, 65.31017517, 41.39164564,\n",
              "       73.44530306, 49.32149304, 52.66458198, 69.13844864, 55.22311108,\n",
              "       49.62134778, 65.18497731, 49.6458777 , 75.34007658, 43.53420034,\n",
              "       57.83207458, 51.59765873, 39.07775807, 51.863721  , 73.49753177,\n",
              "       63.73369262, 75.17714162, 78.74280155])"
            ]
          },
          "execution_count": 59,
          "metadata": {},
          "output_type": "execute_result"
        }
      ],
      "source": [
        "y_pred"
      ]
    },
    {
      "cell_type": "code",
      "execution_count": 60,
      "metadata": {},
      "outputs": [
        {
          "name": "stderr",
          "output_type": "stream",
          "text": [
            "C:\\Users\\diana\\AppData\\Roaming\\Python\\Python310\\site-packages\\sklearn\\base.py:465: UserWarning: X does not have valid feature names, but LinearRegression was fitted with feature names\n",
            "  warnings.warn(\n"
          ]
        },
        {
          "data": {
            "text/plain": [
              "array([24.84745356])"
            ]
          },
          "execution_count": 60,
          "metadata": {},
          "output_type": "execute_result"
        }
      ],
      "source": [
        "new_value = [[70.0, 125.0, 20.0]]\n",
        "new_prediction = lr.predict(new_value)\n",
        "new_prediction"
      ]
    },
    {
      "cell_type": "code",
      "execution_count": 49,
      "metadata": {},
      "outputs": [],
      "source": [
        "import joblib\n",
        "model_file = open(\"Linreg_Air_Quality.pkl\",\"wb\")\n",
        "joblib.dump(lr,model_file)\n",
        "model_file.close()"
      ]
    }
  ],
  "metadata": {
    "colab": {
      "provenance": []
    },
    "kernelspec": {
      "display_name": "Python 3",
      "name": "python3"
    },
    "language_info": {
      "codemirror_mode": {
        "name": "ipython",
        "version": 3
      },
      "file_extension": ".py",
      "mimetype": "text/x-python",
      "name": "python",
      "nbconvert_exporter": "python",
      "pygments_lexer": "ipython3",
      "version": "3.10.7"
    }
  },
  "nbformat": 4,
  "nbformat_minor": 0
}
